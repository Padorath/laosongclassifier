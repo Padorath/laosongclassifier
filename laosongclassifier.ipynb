{
 "cells": [
  {
   "cell_type": "code",
   "execution_count": 1,
   "metadata": {},
   "outputs": [
    {
     "data": {
      "application/vnd.jupyter.widget-view+json": {
       "model_id": "42bb519dc5814cccae6e9423905c6a21",
       "version_major": 2,
       "version_minor": 0
      },
      "text/plain": [
       "VBox(children=(Label(value='Select your lao song!'), FileUpload(value={}, description='Upload', multiple=True)…"
      ]
     },
     "metadata": {},
     "output_type": "display_data"
    }
   ],
   "source": [
    "#!/usr/bin/env python\n",
    "# coding: utf-8\n",
    "\n",
    "\n",
    "# !pip install voila\n",
    "# !jupyter serverextension enable --sys-prefix voila \n",
    "\n",
    "\n",
    "\n",
    "\n",
    "import ipywidgets as widgets\n",
    "from ipywidgets import FileUpload\n",
    "from PIL import Image\n",
    "import numpy as np\n",
    "import torch.nn as nn\n",
    "import torch\n",
    "from io import BytesIO\n",
    "\n",
    "\n",
    "\n",
    "class BasicCnn(nn.Module) :\n",
    "    def __init__(self, output_shape = 8) :\n",
    "        super().__init__()\n",
    "        self.cnnModel = nn.Sequential(\n",
    "            nn.Conv2d(3, 32, kernel_size = 3, stride = 1, padding = 1),\n",
    "            nn.MaxPool2d(kernel_size = 3, stride = 2, padding = 1), #112\n",
    "            nn.Conv2d(32, 64, kernel_size = 3, stride = 1, padding = 1),\n",
    "            nn.MaxPool2d(kernel_size = 3, stride = 2, padding = 1), #56\n",
    "            nn.Conv2d(64, 64, kernel_size = 3, stride = 1, padding = 1),\n",
    "            nn.MaxPool2d(kernel_size = 3, stride = 2, padding = 1), #28\n",
    "            nn.Conv2d(64, 128, kernel_size = 3, stride = 1, padding = 1),\n",
    "            nn.MaxPool2d(kernel_size = 3, stride = 2, padding = 1), #14\n",
    "            nn.Conv2d(128, 128, kernel_size = 3, stride = 1, padding = 1),\n",
    "            nn.MaxPool2d(kernel_size = 3, stride = 2, padding = 1), #7\n",
    "            nn.AdaptiveAvgPool2d((1,1)) #flatten\n",
    "        )\n",
    "        \n",
    "        self.dnnModel = nn.Sequential(\n",
    "            nn.Linear(128, 64),\n",
    "            nn.Linear(64, 32),\n",
    "            nn.Linear(32, output_shape)\n",
    "        )\n",
    "        \n",
    "    def forward(self, x) :\n",
    "        output = self.cnnModel(x)\n",
    "        output = output.squeeze()\n",
    "        output = self.dnnModel(output)\n",
    "        return output\n",
    "    \n",
    "model = BasicCnn(2)\n",
    "model = torch.load('model.pkl')\n",
    "model.cpu()\n",
    "model.eval()\n",
    "\n",
    "\n",
    "\n",
    "classes=['lao song','not lao song']\n",
    "\n",
    "\n",
    "upload = FileUpload(multiple=True)\n",
    "out_pl = widgets.Output()\n",
    "lbl_pred = widgets.Label()\n",
    "btn_run = widgets.Button(description='Classify')\n",
    "\n",
    "\n",
    "\n",
    "def on_click_classify(change):\n",
    "    narray=[]\n",
    "    d=BytesIO(list(upload.value.items())[-1][-1]['content'])\n",
    "    img = Image.open(d)\n",
    "    img=img.resize((224, 224)) \n",
    "    array=np.asarray(img)\n",
    "    narray.append(array)\n",
    "    data=torch.transpose(torch.transpose(torch.tensor(narray),3, 1),3,2)/255\n",
    "\n",
    "        \n",
    "    out_pl.clear_output()\n",
    "    with out_pl: display(img)\n",
    "    \n",
    "    with torch.no_grad() :\n",
    "        predict = model(data)\n",
    "    probs=torch.softmax(predict,dim=0)[predict.argmax()].item()\n",
    "    lbl_pred.value = f'Prediction: {classes[predict.argmax()]}; Probability: {probs:.04f}'\n",
    "\n",
    "btn_run.on_click(on_click_classify)\n",
    "\n",
    "\n",
    "\n",
    "#hide_output\n",
    "vbox=widgets.VBox([widgets.Label('Select your lao song!'), \n",
    "      upload, btn_run, out_pl, lbl_pred])\n",
    "vbox\n",
    "\n",
    "\n",
    "\n",
    "\n"
   ]
  },
  {
   "cell_type": "code",
   "execution_count": null,
   "metadata": {},
   "outputs": [],
   "source": []
  },
  {
   "cell_type": "code",
   "execution_count": null,
   "metadata": {},
   "outputs": [],
   "source": []
  }
 ],
 "metadata": {
  "kernelspec": {
   "display_name": "Python 3",
   "language": "python",
   "name": "python3"
  },
  "language_info": {
   "codemirror_mode": {
    "name": "ipython",
    "version": 3
   },
   "file_extension": ".py",
   "mimetype": "text/x-python",
   "name": "python",
   "nbconvert_exporter": "python",
   "pygments_lexer": "ipython3",
   "version": "3.8.5"
  }
 },
 "nbformat": 4,
 "nbformat_minor": 4
}
